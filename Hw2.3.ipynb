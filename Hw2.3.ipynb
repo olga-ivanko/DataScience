{
 "cells": [
  {
   "cell_type": "markdown",
   "metadata": {},
   "source": [
    "Необхідно виконати:\n",
    "\n",
    "1. Прочитайте csv файл (використовуйте функцію read_csv)\n",
    "2. Виведіть перші п'ять рядків (використовується функція head)"
   ]
  },
  {
   "cell_type": "code",
   "execution_count": null,
   "metadata": {},
   "outputs": [],
   "source": [
    "import pandas as pd\n",
    "\n",
    "df = pd.read_csv(\"bestsellers with categories.csv\")\n",
    "first_5_rows = df.head()\n",
    "first_5_rows"
   ]
  },
  {
   "cell_type": "markdown",
   "metadata": {},
   "source": [
    "3. Виведіть розміри датасету (використовуйте атрибут shape)"
   ]
  },
  {
   "cell_type": "code",
   "execution_count": null,
   "metadata": {},
   "outputs": [],
   "source": [
    "df.shape"
   ]
  },
  {
   "cell_type": "markdown",
   "metadata": {},
   "source": [
    "<div class=\"alert alert-block alert-info\">Про скільки книг зберігає дані датасет?\n",
    "\n",
    "**Відповідь: 351**</div>"
   ]
  },
  {
   "cell_type": "code",
   "execution_count": null,
   "metadata": {},
   "outputs": [],
   "source": [
    "unique_books = df[\"Name\"].nunique()\n",
    "print(\"Про скільки книг зберігає дані датасет? Відповідь:\", unique_books)"
   ]
  },
  {
   "cell_type": "markdown",
   "metadata": {},
   "source": [
    "***\n",
    "## Первинне дослідження даних\n",
    "***"
   ]
  },
  {
   "cell_type": "code",
   "execution_count": null,
   "metadata": {},
   "outputs": [],
   "source": [
    "df.columns = [\"name\", \"author\", \"user_rating\", \"reviews\", \"price\", \"year\", \"genre\"]"
   ]
  },
  {
   "cell_type": "markdown",
   "metadata": {},
   "source": [
    "Перевірте, чи у всіх рядків вистачає даних: виведіть кількість пропусків (na) у кожному зі стовпців (використовуйте функції isna та sum)"
   ]
  },
  {
   "cell_type": "code",
   "execution_count": null,
   "metadata": {},
   "outputs": [],
   "source": [
    "missing_values = df.isna().sum()\n",
    "missing_values"
   ]
  },
  {
   "cell_type": "markdown",
   "metadata": {},
   "source": [
    "<div class=\"alert alert-block alert-info\">Чи є в якихось змінних пропуски? \n",
    "\n",
    "**Відповідь: ні**</div>"
   ]
  },
  {
   "cell_type": "markdown",
   "metadata": {},
   "source": [
    "Перевірте, які є унікальні значення в колонці genre (використовуйте функцію unique)"
   ]
  },
  {
   "cell_type": "code",
   "execution_count": null,
   "metadata": {},
   "outputs": [],
   "source": [
    "unique_genre = df[\"genre\"].unique()\n",
    "print(\"Унікальні жанри:\", unique_genre)"
   ]
  },
  {
   "cell_type": "markdown",
   "metadata": {},
   "source": [
    "<div class=\"alert alert-block alert-info\">Які є унікальні жанри? \n",
    "\n",
    "**Відповідь: 'Non Fiction', 'Fiction'**</div>"
   ]
  },
  {
   "cell_type": "markdown",
   "metadata": {},
   "source": [
    "Тепер подивіться на розподіл цін: побудуйте діаграму (використовуйте kind='hist')"
   ]
  },
  {
   "cell_type": "code",
   "execution_count": null,
   "metadata": {},
   "outputs": [],
   "source": [
    "import matplotlib.pyplot as plt\n",
    "\n",
    "plt.hist(df[\"price\"])\n",
    "plt.title(\"The price of the book\")\n",
    "plt.grid(True)\n",
    "plt.xlabel(\"price\")\n",
    "plt.ylabel(\"items\")\n",
    "plt.show"
   ]
  },
  {
   "cell_type": "markdown",
   "metadata": {},
   "source": [
    "Визначте, яка ціна у нас максимальна, мінімальна, середня, медіанна (використовуйте функції max, min, mean, median)"
   ]
  },
  {
   "cell_type": "code",
   "execution_count": null,
   "metadata": {},
   "outputs": [],
   "source": [
    "max_price = df[\"price\"].max()\n",
    "min_price = df[\"price\"].min()\n",
    "av_price = df[\"price\"].mean()\n",
    "median_price = df[\"price\"].median()\n",
    "\n",
    "max_price, min_price, av_price, median_price\n"
   ]
  },
  {
   "cell_type": "markdown",
   "metadata": {},
   "source": [
    "<div class=\"alert alert-block alert-info\"> Максимальна ціна?    \n",
    "\n",
    " **Відповідь: 105**  \n",
    " \n",
    "Мінімальна ціна?    \n",
    " **Відповідь: 0** \n",
    "\n",
    "Середня ціна?   \n",
    " **Відповідь: 13.1** \n",
    "\n",
    "Медіанна ціна?  \n",
    " **Відповідь: 11.0**\n",
    "</div>\n"
   ]
  },
  {
   "cell_type": "markdown",
   "metadata": {},
   "source": [
    "***\n",
    "## Пошук та сортування даних\n",
    "***"
   ]
  },
  {
   "cell_type": "code",
   "execution_count": null,
   "metadata": {},
   "outputs": [],
   "source": [
    "max_rating = df[\"user_rating\"].max()\n",
    "max_rating"
   ]
  },
  {
   "cell_type": "markdown",
   "metadata": {},
   "source": [
    "<div class=\"alert alert-block alert-info\"> Відповідь: Який рейтинг у датасеті найвищий?   \n",
    "\n",
    " **Відповідь: 4.9**  \n",
    "</div>"
   ]
  },
  {
   "cell_type": "code",
   "execution_count": null,
   "metadata": {},
   "outputs": [],
   "source": [
    "max_rating_books = df[df[\"user_rating\"]==max_rating][\"name\"].nunique()\n",
    "number_of_max_rating_books = max_rating_books\n",
    "number_of_max_rating_books"
   ]
  },
  {
   "cell_type": "markdown",
   "metadata": {},
   "source": [
    "<div class=\"alert alert-block alert-info\"> Скільки книг мають такий рейтинг?   \n",
    "\n",
    " **Відповідь: 28**  \n",
    "</div>"
   ]
  },
  {
   "cell_type": "code",
   "execution_count": null,
   "metadata": {},
   "outputs": [],
   "source": [
    "book_with_max_reviews = df[df[\"reviews\"]==df[\"reviews\"].max()][\"name\"]\n",
    "book_with_max_reviews"
   ]
  },
  {
   "cell_type": "markdown",
   "metadata": {},
   "source": [
    "<div class=\"alert alert-block alert-info\"> Яка книга має найбільше відгуків?   \n",
    "\n",
    " **Відповідь: Where the Crawdads Sing**  \n",
    "</div>"
   ]
  },
  {
   "cell_type": "code",
   "execution_count": null,
   "metadata": {},
   "outputs": [],
   "source": [
    "top_50_2015 = df[df[\"year\"] == 2015]\n",
    "most_expensive_book_2015 = top_50_2015[\n",
    "    top_50_2015[\"price\"] == top_50_2015[\"price\"].max()\n",
    "][\"name\"]\n",
    "most_expensive_book_2015"
   ]
  },
  {
   "cell_type": "markdown",
   "metadata": {},
   "source": [
    "<div class=\"alert alert-block alert-info\"> З тих книг, що потрапили до Топ-50 у 2015 році, яка книга найдорожча (можна використати проміжний датафрейм)?\n",
    "\n",
    " **Відповідь:  Publication Manual of the American Psychologic...**  \n",
    "</div>"
   ]
  },
  {
   "cell_type": "code",
   "execution_count": null,
   "metadata": {},
   "outputs": [],
   "source": [
    "top_2010_fiction = df[(df[\"year\"]==2010) & (df[\"genre\"] == \"Fiction\")]\n",
    "len(top_2010_fiction)"
   ]
  },
  {
   "cell_type": "markdown",
   "metadata": {},
   "source": [
    "<div class=\"alert alert-block alert-info\"> Скільки книг жанру Fiction потрапили до Топ-50 у 2010 році (використовуйте &)?\n",
    "\n",
    " **Відповідь:  20**  \n",
    "</div>"
   ]
  },
  {
   "cell_type": "code",
   "execution_count": null,
   "metadata": {},
   "outputs": [],
   "source": [
    "books_with_high_rating_isin = df[\n",
    "    (df[\"user_rating\"] == 4.9) & (df[\"year\"].isin([2010, 2011]))\n",
    "]\n",
    "\n",
    "books_with_high_rating = df[\n",
    "    (df[\"user_rating\"] == 4.9) & ((df[\"year\"] == 2010) | (df[\"year\"] == 2011))\n",
    "]\n",
    "\n",
    "print(len(books_with_high_rating_isin), len(books_with_high_rating))"
   ]
  },
  {
   "cell_type": "markdown",
   "metadata": {},
   "source": [
    "<div class=\"alert alert-block alert-info\"> Скільки книг з рейтингом 4.9 потрапило до рейтингу у 2010 та 2011 роках (використовуйте | або функцію isin)?\n",
    "\n",
    " **Відповідь:  1**  \n",
    "</div>"
   ]
  },
  {
   "cell_type": "markdown",
   "metadata": {},
   "source": [
    "І насамкінець, давайте відсортуємо за зростанням ціни всі книги, які потрапили до рейтингу в 2015 році і коштують дешевше за 8 доларів (використовуйте функцію sort_values)."
   ]
  },
  {
   "cell_type": "code",
   "execution_count": null,
   "metadata": {},
   "outputs": [],
   "source": [
    "books_2015_under_8 = df[(df[\"year\"] == 2015) & (df[\"price\"] < 8)].sort_values(\n",
    "    by=\"price\", ascending=True\n",
    ")\n",
    "last_book_name = books_2015_under_8.iloc[-1][\"name\"]\n",
    "last_book_name"
   ]
  },
  {
   "cell_type": "markdown",
   "metadata": {},
   "source": [
    "<div class=\"alert alert-block alert-info\"> Яка книга остання у відсортованому списку?\n",
    "\n",
    " **Відповідь:  'Old School (Diary of a Wimpy Kid #10)'**  \n",
    "</div>"
   ]
  },
  {
   "cell_type": "markdown",
   "metadata": {},
   "source": [
    "***\n",
    "## Агрегування даних та з'єднання таблиць\n",
    "***"
   ]
  },
  {
   "cell_type": "code",
   "execution_count": null,
   "metadata": {},
   "outputs": [],
   "source": [
    "price_stats_by_genre = df.groupby(\"genre\")[\"price\"].agg(\n",
    "    min_price=\"min\", max_price=\"max\"\n",
    ")\n",
    "price_stats_by_genre"
   ]
  },
  {
   "cell_type": "markdown",
   "metadata": {},
   "source": [
    "<div class=\"alert alert-block alert-info\"> Максимальна ціна для жанру Fiction:    \n",
    "\n",
    " **Відповідь: 82**  \n",
    " \n",
    "Мінімальна ціна для жанру Fiction?    \n",
    " **Відповідь: 0** \n",
    "\n",
    "Максимальна ціна для жанру Non Fiction?   \n",
    " **Відповідь: 105** \n",
    "\n",
    "Мінімальна ціна для жанру Non Fiction?  \n",
    " **Відповідь: 0**\n",
    "</div>\n"
   ]
  },
  {
   "cell_type": "markdown",
   "metadata": {},
   "source": [
    "Тепер створіть новий датафрейм, який вміщатиме кількість книг для кожного з авторів (використовуйте функції groupby та agg, для підрахунку кількості використовуйте count). Не беріть усі стовпці, виберете тільки потрібні"
   ]
  },
  {
   "cell_type": "code",
   "execution_count": null,
   "metadata": {},
   "outputs": [],
   "source": [
    "books_by_author = (\n",
    "    df.groupby(\"author\")[\"name\"].agg(book_count=\"count\").sort_values(by=\"book_count\")\n",
    ")\n",
    "print(books_by_author)\n",
    "books_by_author.shape"
   ]
  },
  {
   "cell_type": "markdown",
   "metadata": {},
   "source": [
    "<div class=\"alert alert-block alert-info\"> Якої розмірності вийшла таблиця?\n",
    "\n",
    " **Відповідь:  (248, 1)**  \n",
    "\n",
    " Який автор має найбільше книг?     \n",
    " **Відповідь:  Jeff Kinney** \n",
    "\n",
    "Скільки книг цього автора?      \n",
    " **Відповідь:  12**\n",
    "\n",
    "</div>"
   ]
  },
  {
   "cell_type": "markdown",
   "metadata": {},
   "source": [
    "Тепер створіть другий датафрейм, який буде вміщати середній рейтинг для кожного автора (використовуйте функції groupby та agg, для підрахунку середнього значення використовуйте mean). Не беріть усі стовпці, виберете тільки потрібні"
   ]
  },
  {
   "cell_type": "code",
   "execution_count": null,
   "metadata": {},
   "outputs": [],
   "source": [
    "av_rating_by_author = (\n",
    "    df.groupby(\"author\")[\"user_rating\"]\n",
    "    .agg(avg_rating=\"mean\")\n",
    "    .sort_values(by=\"avg_rating\")\n",
    ")\n",
    "\n",
    "av_rating_by_author"
   ]
  },
  {
   "cell_type": "markdown",
   "metadata": {},
   "source": [
    "<div class=\"alert alert-block alert-info\"> У якого автора середній рейтинг мінімальний?\n",
    "\n",
    " **Відповідь:  Donna Tartt**  \n",
    "\n",
    " Який у цього автора середній рейтинг?     \n",
    " **Відповідь:  3.9** \n",
    "</div>"
   ]
  },
  {
   "cell_type": "markdown",
   "metadata": {},
   "source": [
    "З'єднайте останні два датафрейми так, щоб для кожного автора було видно кількість книг та середній рейтинг (Використовуйте функцію concat з параметром axis=1). Збережіть результат у змінну"
   ]
  },
  {
   "cell_type": "code",
   "execution_count": null,
   "metadata": {},
   "outputs": [],
   "source": [
    "author_stats = pd.concat([books_by_author, av_rating_by_author], axis=1)\n",
    "author_stats"
   ]
  },
  {
   "cell_type": "markdown",
   "metadata": {},
   "source": [
    "Відсортуйте датафрейм за зростаючою кількістю книг та зростаючим рейтингом (використовуйте функцію sort_values)"
   ]
  },
  {
   "cell_type": "code",
   "execution_count": null,
   "metadata": {},
   "outputs": [],
   "source": [
    "author_stats.sort_values(by=[\"book_count\", \"avg_rating\"], ascending= [True, True])"
   ]
  },
  {
   "cell_type": "markdown",
   "metadata": {},
   "source": [
    "<div class=\"alert alert-block alert-info\"> Який автор перший у списку?\n",
    "\n",
    " **Відповідь:  Muriel Barbery**  \n",
    "</div>"
   ]
  }
 ],
 "metadata": {
  "kernelspec": {
   "display_name": "Python 3",
   "language": "python",
   "name": "python3"
  },
  "language_info": {
   "codemirror_mode": {
    "name": "ipython",
    "version": 3
   },
   "file_extension": ".py",
   "mimetype": "text/x-python",
   "name": "python",
   "nbconvert_exporter": "python",
   "pygments_lexer": "ipython3",
   "version": "3.11.8"
  }
 },
 "nbformat": 4,
 "nbformat_minor": 2
}

{
 "cells": [
  {
   "cell_type": "code",
   "execution_count": null,
   "metadata": {},
   "outputs": [],
   "source": [
    "import pandas as pd\n",
    "import numpy as np\n",
    "import matplotlib.pyplot as plt\n",
    "from sklearn.linear_model import LinearRegression"
   ]
  },
  {
   "cell_type": "markdown",
   "metadata": {},
   "source": [
    "*** \n",
    "# підготовка даних \n",
    "***"
   ]
  },
  {
   "cell_type": "code",
   "execution_count": null,
   "metadata": {},
   "outputs": [],
   "source": [
    "# Завантаження даних\n",
    "df = pd.read_csv(\"sources/Housing.csv\")\n",
    "print(df.info())  # Using print to display information in a script\n",
    "\n",
    "# Нормалізація функцій\n",
    "df[\"area\"] = (df[\"area\"] - df[\"area\"].mean()) / df[\"area\"].std()\n",
    "df[\"bedrooms\"] = (df[\"bedrooms\"] - df[\"bedrooms\"].mean()) / df[\"bedrooms\"].std()\n",
    "df[\"bathrooms\"] = (df[\"bathrooms\"] - df[\"bathrooms\"].mean()) / df[\"bathrooms\"].std()\n",
    "\n",
    "# Додавання колонки одиниць для ухилу (intercept)\n",
    "df.insert(0, \"intercept\", 1)\n",
    "\n",
    "# Визначення X та y\n",
    "X = df[[\"intercept\", \"area\", \"bedrooms\", \"bathrooms\"]].values\n",
    "y = df[\"price\"].values"
   ]
  },
  {
   "cell_type": "markdown",
   "metadata": {},
   "source": [
    "1. напишіть функцію гіпотези (h) лінійної регресії у векторному вигляді"
   ]
  },
  {
   "cell_type": "code",
   "execution_count": null,
   "metadata": {},
   "outputs": [],
   "source": [
    "def h(X, w):\n",
    "    return np.dot(X, w)"
   ]
  },
  {
   "cell_type": "markdown",
   "metadata": {},
   "source": [
    "2. створіть функцію для обчислення функції втрат у векторному вигляді"
   ]
  },
  {
   "cell_type": "code",
   "execution_count": null,
   "metadata": {},
   "outputs": [],
   "source": [
    "def loss_func(X, y, w):\n",
    "    m = len(y) #к-ть спостережень\n",
    "    predictions = h(X, w)  # вектор прогнозованих значень\n",
    "    errors = predictions - y  # вектор помилок\n",
    "    squared_errors = np.dot(errors.T, errors)  # сума квадратів помилок\n",
    "    loss = (1 / (2 * m)) * squared_errors  # нормалізація помилки\n",
    "    return loss"
   ]
  },
  {
   "cell_type": "markdown",
   "metadata": {},
   "source": [
    "3. реалізуйте один крок градієнтного спуску\n",
    "4. знайдіть найкращі параметри для датасету (Housing.csv) прогнозуючу ціну на будинок залежно від площі, кількості ванних кімнат та кількості спалень;"
   ]
  },
  {
   "cell_type": "code",
   "execution_count": null,
   "metadata": {},
   "outputs": [],
   "source": [
    "def gradient_descent_step(X, y, w, alpha):\n",
    "    m = len(y)\n",
    "    predictions = h(X, w)\n",
    "    errors = predictions - y\n",
    "    gradient = (1 / m) * np.dot(X.T, errors)\n",
    "    w = w - alpha * gradient\n",
    "    current_loss = loss_func(X, y, w)\n",
    "    return w, current_loss\n",
    "\n",
    "\n",
    "w = np.zeros(X.shape[1])\n",
    "alpha = 0.01\n",
    "iterations = 1000\n",
    "\n",
    "loss_history = []\n",
    "for i in range(iterations):\n",
    "    w, loss = gradient_descent_step(X, y, w, alpha)\n",
    "    loss_history.append(loss)\n",
    "\n",
    "print(f\"Optimized weights: {w}\")\n",
    "\n",
    "\n",
    "plt.figure(figsize=(10, 6))\n",
    "plt.plot(loss_history, label=\"Loss History\", color=\"blue\")\n",
    "plt.title(\"Loss History over Iterations\")\n",
    "plt.xlabel(\"Iteration Number\")\n",
    "plt.ylabel(\"Loss Value\")\n",
    "plt.legend()\n",
    "plt.grid(True)\n",
    "plt.show()"
   ]
  },
  {
   "cell_type": "markdown",
   "metadata": {},
   "source": [
    "5. знайдіть ці ж параметри за допомогою аналітичного рішення;"
   ]
  },
  {
   "cell_type": "code",
   "execution_count": null,
   "metadata": {},
   "outputs": [],
   "source": [
    "lr_model = LinearRegression().fit(X, y)\n",
    "w_sklearn = lr_model.coef_\n",
    "\n",
    "print(f\"Optimized w (manual): {w[1:]}\")\n",
    "print(f\"Coefficients (sklearn): {w_sklearn[1:]}\")\n"
   ]
  },
  {
   "cell_type": "markdown",
   "metadata": {},
   "source": [
    "6. порівняйте отримані результати."
   ]
  },
  {
   "cell_type": "code",
   "execution_count": null,
   "metadata": {},
   "outputs": [],
   "source": [
    "test_areas = np.array([65, 62, 78,  100, 130, 250])\n",
    "test_bedrooms = np.array([1, 2, 3, 3, 4, 5])\n",
    "test_bathrooms = np.array([1, 1, 1, 2, 2, 3])\n",
    "\n",
    "test_combinations = np.column_stack(\n",
    "    (np.ones(test_areas.shape[0]), test_areas, test_bedrooms, test_bathrooms)\n",
    ")\n",
    "\n",
    "\n",
    "predicted_prices_manual = h(test_combinations, w)\n",
    "\n",
    "predicted_prices_lr = lr_model.predict(test_combinations)\n",
    "\n",
    "p_difference = predicted_prices_manual - predicted_prices_lr\n",
    "print(\"Difference between prices calculated with manualy diffined and sklearn calculated weights:\", p_difference)\n",
    "price_min = df[\"price\"].min()\n",
    "price_max = df[\"price\"].max()\n",
    "price_mean = df[\"price\"].mean()\n",
    "\n",
    "print(f\"Dataset min price = {price_min}, max price = {price_max}, mean price = {price_mean}\")\n",
    "\n",
    "import matplotlib.pyplot as plt\n",
    "\n",
    "plt.figure(figsize=(14, 7))\n",
    "plt.plot(predicted_prices_manual, label=\"manu  \", marker=\"o\")\n",
    "plt.plot(predicted_prices_lr, label=\"scikit-learn LR\", marker=\"x\")\n",
    "plt.title(\"порівняння прогнозних цін\")\n",
    "plt.xlabel(\"Features combinations\")\n",
    "plt.ylabel(\"Predicted Price\")\n",
    "plt.legend()\n",
    "plt.grid(True)\n",
    "plt.show()"
   ]
  },
  {
   "cell_type": "markdown",
   "metadata": {},
   "source": [
    "*** \n",
    "# Висновок:\n",
    "***\n",
    "\n",
    "Візулізація розрахунку прогнозних цін для тестових комбінацій вказує на те, що модель створено мануально та модель з бібліотеки sklearn дають приблизно однакові результати. \n",
    "Як показує  прогнозних \"p_difference\" ціни розраховані моделлю, створеною мануально, дещо нижчі, зважаючи на фактичні значення середньої/мініамльної та максимальної ціни у датасеті, таке відхилення можна вважати не суттєвим та допустимим."
   ]
  }
 ],
 "metadata": {
  "kernelspec": {
   "display_name": "Python 3",
   "language": "python",
   "name": "python3"
  },
  "language_info": {
   "codemirror_mode": {
    "name": "ipython",
    "version": 3
   },
   "file_extension": ".py",
   "mimetype": "text/x-python",
   "name": "python",
   "nbconvert_exporter": "python",
   "pygments_lexer": "ipython3",
   "version": "3.11.8"
  }
 },
 "nbformat": 4,
 "nbformat_minor": 2
}
